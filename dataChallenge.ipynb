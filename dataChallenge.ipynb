{
 "cells": [
  {
   "cell_type": "code",
   "execution_count": 1,
   "metadata": {
    "collapsed": false
   },
   "outputs": [],
   "source": [
    "import numpy as np\n",
    "import pandas as pd\n",
    "import matplotlib as plt\n",
    "import matplotlib.dates as mdates\n",
    "from datetime import datetime \n",
    "from scipy.stats import lognorm, zscore, linregress\n",
    "%matplotlib inline \n",
    "from IPython.display import display\n",
    "from sklearn.ensemble import RandomForestRegressor \n",
    "from sklearn.preprocessing import LabelEncoder  \n",
    "from sklearn.cross_validation import train_test_split\n",
    "from sklearn.cross_validation import cross_val_score\n"
   ]
  },
  {
   "cell_type": "code",
   "execution_count": 2,
   "metadata": {
    "collapsed": true
   },
   "outputs": [],
   "source": [
    "fig_size = plt.rcParams[\"figure.figsize\"]\n",
    "\n",
    "# Set figure width to 12 and height to 9\n",
    "fig_size[0] = 12\n",
    "fig_size[1] = 9\n",
    "plt.rcParams[\"figure.figsize\"] = fig_size"
   ]
  },
  {
   "cell_type": "code",
   "execution_count": 3,
   "metadata": {
    "collapsed": false
   },
   "outputs": [],
   "source": [
    "#Import csv file\n",
    "df=pd.read_csv('crap.csv', header=0)\n",
    "pd.set_option('display.max_colwidth', 50)"
   ]
  },
  {
   "cell_type": "markdown",
   "metadata": {},
   "source": [
    "### Data Analysis and Statistical Modeling Questions\n",
    "\n",
    "#### 1. i. For the data set, identify high price outliers. Explain how you identified these outliers.\n",
    "\n",
    "Two cases come to mind:\n",
    "* An input error by the contributor. This may an incorrect placement of a decimal point (i.e. quantity=1.00 -> quantity=100.).  The mistake can happen while inputing the price, quantity, size, units. Each of these contribute to the normalized price which will we use to find the outliers. \n",
    "* Given that contributors are financially compensated for the contributions, fraudulent submissions are inevitable. This often leads to a cat-and-mouse situation and the outlier algorithm needs to be updated\n",
    "       \n",
    "Not quite gaussian, on to Log-Normal...:\n",
    "* Given that we do not expect prices to go below 0 and that decimal point mistakes can change the price values by order of magnitudes above and below the real price, a guassian distribution may not be suitable to model prices. On the otherhand, the log of the prices could follow a normal distributions so we use that.     \n",
    "    \n",
    "Method:\n",
    "* After transforming the normalized price column to Log(normalized price), we define an outlier as a data point likes beyond 1.96 sigma of the mean. This should exclude about 5% of our dataset. "
   ]
  },
  {
   "cell_type": "code",
   "execution_count": 5,
   "metadata": {
    "collapsed": false
   },
   "outputs": [],
   "source": [
    "#Empty dataframe to fill later\n",
    "outliers = pd.DataFrame()\n",
    "\n",
    "#Create dataframes who's content has ben grouped by Product\n",
    "groupedDf = df.groupby([\"p_item_product_lc\"])\n",
    "\n",
    "\n",
    "for prod_place, gp in groupedDf:\n",
    "    #Add column of Log(normalized prices)\n",
    "    gp.loc[:,'log_normalized_price'] = gp['normalized_price'].apply(lambda x: np.log(x))\n",
    "    \n",
    "    #Calculate z-score\n",
    "    gp.loc[:,'zScore']= zscore(gp['log_normalized_price'])\n",
    "    \n",
    "    #store datapoints at least 1.96 sigma away\n",
    "    z = gp[np.abs(gp[\"zScore\"])>1.96]\n",
    "\n",
    "    if not z.empty : \n",
    "        outliers = outliers.append(z)"
   ]
  },
  {
   "cell_type": "code",
   "execution_count": 6,
   "metadata": {
    "collapsed": false
   },
   "outputs": [
    {
     "name": "stdout",
     "output_type": "stream",
     "text": [
      "14029 outliers have been found (~5.65 % of the dataset), here is the first five:\n"
     ]
    },
    {
     "data": {
      "text/html": [
       "<div>\n",
       "<table border=\"1\" class=\"dataframe\">\n",
       "  <thead>\n",
       "    <tr style=\"text-align: right;\">\n",
       "      <th></th>\n",
       "      <th>p_item_product_lc</th>\n",
       "      <th>city</th>\n",
       "      <th>l_place_name</th>\n",
       "      <th>zScore</th>\n",
       "    </tr>\n",
       "  </thead>\n",
       "  <tbody>\n",
       "    <tr>\n",
       "      <th>94603</th>\n",
       "      <td>Banana</td>\n",
       "      <td>Accra</td>\n",
       "      <td>Marina Mall</td>\n",
       "      <td>3.792949</td>\n",
       "    </tr>\n",
       "    <tr>\n",
       "      <th>94714</th>\n",
       "      <td>Banana</td>\n",
       "      <td>Tamale</td>\n",
       "      <td>Nasant Ventures</td>\n",
       "      <td>2.365355</td>\n",
       "    </tr>\n",
       "    <tr>\n",
       "      <th>94756</th>\n",
       "      <td>Banana</td>\n",
       "      <td>Kumasi</td>\n",
       "      <td>Airtel Money Brodex</td>\n",
       "      <td>-3.327078</td>\n",
       "    </tr>\n",
       "    <tr>\n",
       "      <th>94768</th>\n",
       "      <td>Banana</td>\n",
       "      <td>Accra</td>\n",
       "      <td>Accra Mall</td>\n",
       "      <td>2.365355</td>\n",
       "    </tr>\n",
       "    <tr>\n",
       "      <th>94800</th>\n",
       "      <td>Banana</td>\n",
       "      <td>Tamale</td>\n",
       "      <td>Aboabo market Tamale</td>\n",
       "      <td>-2.153919</td>\n",
       "    </tr>\n",
       "  </tbody>\n",
       "</table>\n",
       "</div>"
      ],
      "text/plain": [
       "      p_item_product_lc    city          l_place_name    zScore\n",
       "94603            Banana   Accra           Marina Mall  3.792949\n",
       "94714            Banana  Tamale       Nasant Ventures  2.365355\n",
       "94756            Banana  Kumasi   Airtel Money Brodex -3.327078\n",
       "94768            Banana   Accra            Accra Mall  2.365355\n",
       "94800            Banana  Tamale  Aboabo market Tamale -2.153919"
      ]
     },
     "execution_count": 6,
     "metadata": {},
     "output_type": "execute_result"
    }
   ],
   "source": [
    "#display all outliers by product\n",
    "print \"%i outliers have been found (~%3.2f %% of the dataset), here is the first five:\" % (len(outliers), 100*(float(len(outliers))/len(df)))\n",
    "outliers.loc[:,[\"p_item_product_lc\",\"city\",\"l_place_name\",\"zScore\"]].head()"
   ]
  },
  {
   "cell_type": "markdown",
   "metadata": {},
   "source": [
    "I've noticed many Fruit Juice observations have a z score above ten.  Investingating a bit more:"
   ]
  },
  {
   "cell_type": "code",
   "execution_count": 7,
   "metadata": {
    "collapsed": false
   },
   "outputs": [
    {
     "data": {
      "text/plain": [
       "<matplotlib.axes._subplots.AxesSubplot at 0xaa4edeec>"
      ]
     },
     "execution_count": 7,
     "metadata": {},
     "output_type": "execute_result"
    },
    {
     "data": {
      "image/png": "[encoded data removed]",
      "text/plain": [
       "<matplotlib.figure.Figure at 0xaa4ed62c>"
      ]
     },
     "metadata": {},
     "output_type": "display_data"
    }
   ],
   "source": [
    "#Select Fruit Juice\n",
    "fruitJuice = df[df[\"p_item_product_lc\"]==\"Fruit juice\"]\n",
    "#Plot all Fruit Juice normalized prices\n",
    "fruitJuice.ix[:,\"normalized_price\"].plot(kind=\"hist\",bins=100, logy=True, title=\"Normalized Fruit Juice Prices\")"
   ]
  },
  {
   "cell_type": "code",
   "execution_count": 8,
   "metadata": {
    "collapsed": false
   },
   "outputs": [
    {
     "data": {
      "image/png": "[encoded data removed]",
      "text/plain": [
       "<matplotlib.figure.Figure at 0xa8e86dec>"
      ]
     },
     "metadata": {},
     "output_type": "display_data"
    }
   ],
   "source": [
    "fruitJuiceOutliers= outliers[outliers[\"p_item_product_lc\"]==\"Fruit juice\"]\n",
    "for contributor in fruitJuiceOutliers.groupby(\"u_uuid\"):\n",
    "    contributor[1].loc[:,\"normalized_price\"].plot(kind=\"hist\",bins=100, logy=True, xlim=(0,.4),title=\"Outlier Fruit Juice prices by contributor\")"
   ]
  },
  {
   "cell_type": "markdown",
   "metadata": {
    "collapsed": false,
    "scrolled": true
   },
   "source": [
    "Largest outliers in fruit juices seem to be from one contributor who has been submitting the same picture of a damaged can of fruit juice at various angles over the past 2 years. "
   ]
  },
  {
   "cell_type": "markdown",
   "metadata": {},
   "source": [
    "#### 2. \n",
    "#### i. For the data set, describe some variables that could be sources of sampling bias when estimating price trends in Ghana. Explain why each of these variables could cause sampling bias.\n",
    "\n",
    "* Location : \n",
    "    One sampling bias could come from the locations of the observations.  It could be that contributors are biasing the sample by always going to the same supermarket or mom-and-pop shop.  Furthermore, if we assume such a bias, then taking a simple daily average for each product may overly represent the product prices in the most frequent location.  We could instead take the average of average of prices in specific locations in specific cities.  If the observations are imbalanced, we would see a bias.   \n",
    "\n",
    "* Product composition of sample: We might want to look at the composition of the sample. i.e..sample by sample is a specific product over/under represented relative to other products.  For example, if normally, one expects on any given day that Coca-Cola bottles make up for 5% of submissions but yet for a specific day they made up 15% of the observations (maybe because contributors did not submit other products as much), then we can expect a bias in our sample.  \n",
    "\n",
    "* Contributors: Fraudulent submissions and unintentional input mistakes could of course bias the sample.\n",
    "\n",
    "\n",
    "#### ii. Pick one bias (not u_uuid). Write some code that attempts to estimate the potential amount of sample bias caused by this variable, and describe your methodology.\n",
    "\n",
    "I picked location. I wanted to see if averaging over the normalized prices per day for each product gives the same result as taking the average of normalized prices per location in each city then averaging over those. The former gives more weight to the locations with the most observations, while the other holds locations on more equal footing. If the observations are equally distributed over the cities and locations we expect no change. On the other hand, we may expect so bias if some locations are over-represented.  \n",
    " "
   ]
  },
  {
   "cell_type": "markdown",
   "metadata": {
    "collapsed": false
   },
   "source": [
    "Let's define:\n",
    "* method 1 as the daily average of normalized price of a product\n",
    "* method 2 as the average of the average normalize price for the product sold in a location in a city for all locations and cities.  \n",
    "\n",
    "We'll define our bias as (method 2 - method 1) / method 1 "
   ]
  },
  {
   "cell_type": "code",
   "execution_count": 9,
   "metadata": {
    "collapsed": true
   },
   "outputs": [],
   "source": [
    "# a function to calculate the bias, we fit a line and take the intercept as our bias\n",
    "def estimateBias(unbiased=None, biased=None):\n",
    "    biases = [] \n",
    "    unbiased[\"bias_est\"] = (unbiased[\"mean\"]-biased[\"mean\"])/ biased[\"mean\"]\n",
    "    for prod,prodDf in unbiased.groupby([\"p_item_product_lc\"]):\n",
    "        days = [(e - min(prodDf[\"date\"])).days for e in prodDf[\"date\"]] \n",
    "        nFit = np.polyfit(days, prodDf[\"bias_est\"], 0)\n",
    "        l = linregress(days,prodDf[\"bias_est\"])\n",
    "        # compare constant and order 1 fits\n",
    "        #print nFit, l.intercept\n",
    "        biases.append(np.abs(nFit[0]))\n",
    "    return biases"
   ]
  },
  {
   "cell_type": "code",
   "execution_count": 10,
   "metadata": {
    "collapsed": true
   },
   "outputs": [],
   "source": [
    "#Add date column to dataframe\n",
    "def addDate(dFrame):\n",
    "    dFrame.loc[:,\"date\"]= dFrame[\"t_time\"].apply(lambda x : datetime.strptime(x.split(\".\")[0],\"%Y-%m-%d %X\").date())\n",
    "    return dFrame\n",
    "\n",
    "#remove outliers from dataframe\n",
    "df = addDate(df.drop(outliers.index))"
   ]
  },
  {
   "cell_type": "code",
   "execution_count": 11,
   "metadata": {
    "collapsed": false
   },
   "outputs": [
    {
     "name": "stdout",
     "output_type": "stream",
     "text": [
      "Average bias in products due to imbalance sampling: 0.01 %\n",
      "Highest bias measured: 0.10 %\n"
     ]
    }
   ],
   "source": [
    "newDf = pd.DataFrame()\n",
    "groups = [\"p_item_product_lc\",\"city\",\"l_place_name\",\"date\"]\n",
    "\n",
    "#Drop rows with NAN in the columns we're interested in\n",
    "df = df.dropna(subset = groups)\n",
    "\n",
    "#find the average daily price for each product for each city and location \n",
    "prodCityPlaceDateGrouped = df.groupby(groups, as_index=True)\n",
    "prodCityPlaceDate = prodCityPlaceDateGrouped[\"normalized_price\"].agg([np.mean])\n",
    "prodCityPlaceDate = prodCityPlaceDate.reset_index()\n",
    "\n",
    "# average over those averages (avg of avgs)\n",
    "prodDateGrouped = prodCityPlaceDate.groupby([\"p_item_product_lc\",\"date\"])\n",
    "unbiased = prodDateGrouped[\"mean\"].agg([np.mean])\n",
    "\n",
    "\n",
    "#find the average daily price aggregated over all cities and locations (simple avg)\n",
    "\n",
    "biasedGrouped = df.groupby([\"p_item_product_lc\",\"date\"], as_index=True)\n",
    "biased = biasedGrouped[\"normalized_price\"].agg([np.mean])\n",
    "\n",
    "#reset indexes\n",
    "unbiased = unbiased.reset_index()\n",
    "biased = biased.reset_index()\n",
    "\n",
    "\n",
    "maxB = max(estimateBias(unbiased, biased))\n",
    "meanB = np.mean(estimateBias(unbiased, biased))\n",
    "print \"Average bias in products due to imbalance sampling: %3.2f %%\" % meanB\n",
    "print \"Highest bias measured: %3.2f %%\" % maxB"
   ]
  },
  {
   "cell_type": "markdown",
   "metadata": {},
   "source": [
    "We see a small average bias across all products, with the maximum being a tenth of a percent."
   ]
  },
  {
   "cell_type": "markdown",
   "metadata": {
    "collapsed": true
   },
   "source": [
    "# Modelling Question"
   ]
  },
  {
   "cell_type": "markdown",
   "metadata": {},
   "source": [
    "\n",
    "### 1. Create a model that predicts price from various metadata.\n",
    "\n",
    "#### i. Explain how your model works, and why you chose it.\n",
    "\n",
    "I have decided to use a random forest regression. A random forest averages over a number of decision trees (where each splitting branch is a feature of our model) trained on different sub-sets of the dataset. \n",
    "\n",
    "Decision Trees are able to pick out subtle features in the data (i.e. difference prices of onions bought at supermarkets vs open-markets) at the expense of potentially over-fitting the data. Creating a random selection of tress (a forest) helps to control over-fitting. Averaging over these threes also improves the predictive accuracy.\n",
    "\n",
    "#### ii. Why did you use the metadata you used?\n",
    "\n",
    "I used :\n",
    "   * product: Not much to say there...can't compare apples and oranges...I need the product as a feature.\n",
    "   * city: I expect variations in price in Metropolitan vs rural cities for many products. \n",
    "   * location: SuperMarkets and open markets will most likely offer differing product, but also at different prices.   \n",
    "   * date: Using dates may allow our model to do some crude price forcasting (if time permits, I may try this.)\n",
    "\n",
    "I did not use:\n",
    "* package size, quantity, units: Since I'm predicting normalized price, those features are inheritly included.\n",
    "* Product brand: I don't have a strong reason to not have included this, although I think the dimensionality of the dataset could increase too much for my model to handle, or it may expose it to over-fitting.  I'll come back to this and include if I have time.\n",
    "   \n",
    "#### iii. How can you be sure that you’re not over­fitting the model?\n",
    "\n",
    "I split my dataset into 2/3 and 1/3 parts. The larger part is my training set while the latter is my testing set.\n",
    "As epected the model gives a 100% accuracy on my training set ( a sign of potential over-fitting) but it is able to accuratly predict 95 percent of my testing set, which is pretty good. \n"
   ]
  },
  {
   "cell_type": "code",
   "execution_count": 12,
   "metadata": {
    "collapsed": false
   },
   "outputs": [],
   "source": [
    "#Sort by date \n",
    "prodCityPlaceDate = prodCityPlaceDate.sort_values(by=\"date\")"
   ]
  },
  {
   "cell_type": "code",
   "execution_count": 13,
   "metadata": {
    "collapsed": false
   },
   "outputs": [
    {
     "data": {
      "text/plain": [
       "RandomForestRegressor(bootstrap=False, criterion='mse', max_depth=None,\n",
       "           max_features='auto', max_leaf_nodes=None, min_samples_leaf=1,\n",
       "           min_samples_split=2, min_weight_fraction_leaf=0.0,\n",
       "           n_estimators=100, n_jobs=1, oob_score=False, random_state=None,\n",
       "           verbose=0, warm_start=False)"
      ]
     },
     "execution_count": 13,
     "metadata": {},
     "output_type": "execute_result"
    }
   ],
   "source": [
    "#Isolate predictor variables\n",
    "X = prodCityPlaceDate.loc[:,groups]\n",
    "\n",
    "#Transform categorical labels into integers\n",
    "for group in groups:\n",
    "        X.loc[:,group] = LabelEncoder().fit_transform(X.loc[:,group])\n",
    "\n",
    "#Split dataset into training and testing subsets\n",
    "X_train, X_test, y_train, y_test = train_test_split(X,prodCityPlaceDate[\"mean\"], test_size=0.33, random_state=42)\n",
    "\n",
    "#instantiate model \n",
    "rfr = RandomForestRegressor(n_estimators=100, bootstrap=False)\n",
    "\n",
    "#fit\n",
    "rfr.fit(X_train,y_train)"
   ]
  },
  {
   "cell_type": "code",
   "execution_count": 14,
   "metadata": {
    "collapsed": false
   },
   "outputs": [
    {
     "data": {
      "text/plain": [
       "0.99999999954482321"
      ]
     },
     "execution_count": 14,
     "metadata": {},
     "output_type": "execute_result"
    }
   ],
   "source": [
    "rfr.score(X_train,y_train)"
   ]
  },
  {
   "cell_type": "code",
   "execution_count": 15,
   "metadata": {
    "collapsed": false
   },
   "outputs": [
    {
     "data": {
      "text/plain": [
       "0.94871823594554938"
      ]
     },
     "execution_count": 15,
     "metadata": {},
     "output_type": "execute_result"
    }
   ],
   "source": [
    "rfr.score(X_test,y_test)"
   ]
  },
  {
   "cell_type": "code",
   "execution_count": null,
   "metadata": {
    "collapsed": true
   },
   "outputs": [],
   "source": []
  }
 ],
 "metadata": {
  "kernelspec": {
   "display_name": "Python 2",
   "language": "python",
   "name": "python2"
  },
  "language_info": {
   "codemirror_mode": {
    "name": "ipython",
    "version": 2
   },
   "file_extension": ".py",
   "mimetype": "text/x-python",
   "name": "python",
   "nbconvert_exporter": "python",
   "pygments_lexer": "ipython2",
   "version": "2.7.10"
  }
 },
 "nbformat": 4,
 "nbformat_minor": 0
}
